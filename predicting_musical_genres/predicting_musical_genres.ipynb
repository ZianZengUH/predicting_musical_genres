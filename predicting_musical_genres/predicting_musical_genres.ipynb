{
 "cells": [
  {
   "cell_type": "markdown",
   "id": "3ffd9462",
   "metadata": {},
   "source": [
    "# ICS 235\n",
    "Name: Zian Zeng"
   ]
  },
  {
   "cell_type": "markdown",
   "id": "aaae529e",
   "metadata": {},
   "source": [
    "# Predicting the musical genre\n",
    "\n",
    "## About the data\n",
    "\n",
    "In this project, we will analyze a dataset to predict the musical genre of popular songs based on the songs characteristics. The dataset was cleaned and filtered for our purpose. As usual, you have a data table with samples as rows and features as columns, with one entry per song.\n",
    " \n",
    "The features are:\n",
    "\n",
    "| Column range | Feature label | Data type | Description                       |\n",
    "|--------------|---------------|-----------|-----------------------------------|\n",
    "|      0       | artist        | string    | Name of the singer/band           |\n",
    "|      1       | track         | string    | Song title                        |\n",
    "|      2       | duration      | float     | Duration of the song in minutes   |\n",
    "|      3       | popularity    | integer   | Song popularity between 1 and 100 |\n",
    "|     4-15     | ...           | float     | Characteristics of the song       |\n",
    "|      16      |  genre        | string    | Musical genre of the song         |\n",
    "\n",
    "A detailed description of the features is available [here](https://developer.spotify.com/documentation/web-api/reference/#objects-index).\n",
    "\n",
    "## Loading the data\n",
    "\n",
    "We first need to load the dataset."
   ]
  },
  {
   "cell_type": "code",
   "execution_count": 7,
   "id": "ffd99d2d",
   "metadata": {},
   "outputs": [
    {
     "data": {
      "text/html": [
       "<div>\n",
       "<style scoped>\n",
       "    .dataframe tbody tr th:only-of-type {\n",
       "        vertical-align: middle;\n",
       "    }\n",
       "\n",
       "    .dataframe tbody tr th {\n",
       "        vertical-align: top;\n",
       "    }\n",
       "\n",
       "    .dataframe thead th {\n",
       "        text-align: right;\n",
       "    }\n",
       "</style>\n",
       "<table border=\"1\" class=\"dataframe\">\n",
       "  <thead>\n",
       "    <tr style=\"text-align: right;\">\n",
       "      <th></th>\n",
       "      <th>artist</th>\n",
       "      <th>track</th>\n",
       "      <th>duration</th>\n",
       "      <th>popularity</th>\n",
       "      <th>danceability</th>\n",
       "      <th>energy</th>\n",
       "      <th>key</th>\n",
       "      <th>loudness</th>\n",
       "      <th>mode</th>\n",
       "      <th>speechiness</th>\n",
       "      <th>acousticness</th>\n",
       "      <th>instrumentalness</th>\n",
       "      <th>liveness</th>\n",
       "      <th>valence</th>\n",
       "      <th>tempo</th>\n",
       "      <th>time_signature</th>\n",
       "      <th>genre</th>\n",
       "    </tr>\n",
       "  </thead>\n",
       "  <tbody>\n",
       "    <tr>\n",
       "      <th>0</th>\n",
       "      <td>Boston</td>\n",
       "      <td>Hitch a Ride</td>\n",
       "      <td>4.20</td>\n",
       "      <td>54.0</td>\n",
       "      <td>0.382</td>\n",
       "      <td>0.814</td>\n",
       "      <td>3.0</td>\n",
       "      <td>-7.230</td>\n",
       "      <td>1</td>\n",
       "      <td>0.0406</td>\n",
       "      <td>0.001100</td>\n",
       "      <td>0.00401</td>\n",
       "      <td>0.101</td>\n",
       "      <td>0.5690</td>\n",
       "      <td>116.454</td>\n",
       "      <td>4</td>\n",
       "      <td>rock</td>\n",
       "    </tr>\n",
       "    <tr>\n",
       "      <th>1</th>\n",
       "      <td>Red Hot Chili Peppers</td>\n",
       "      <td>Nobody Weird Like Me - Remastered</td>\n",
       "      <td>3.83</td>\n",
       "      <td>53.0</td>\n",
       "      <td>0.167</td>\n",
       "      <td>0.975</td>\n",
       "      <td>2.0</td>\n",
       "      <td>-4.279</td>\n",
       "      <td>1</td>\n",
       "      <td>0.2160</td>\n",
       "      <td>0.000169</td>\n",
       "      <td>0.01610</td>\n",
       "      <td>0.172</td>\n",
       "      <td>0.0918</td>\n",
       "      <td>199.060</td>\n",
       "      <td>4</td>\n",
       "      <td>rock</td>\n",
       "    </tr>\n",
       "    <tr>\n",
       "      <th>2</th>\n",
       "      <td>Professional Murder Music</td>\n",
       "      <td>Slow</td>\n",
       "      <td>3.96</td>\n",
       "      <td>29.0</td>\n",
       "      <td>0.431</td>\n",
       "      <td>0.776</td>\n",
       "      <td>10.0</td>\n",
       "      <td>-5.403</td>\n",
       "      <td>1</td>\n",
       "      <td>0.0527</td>\n",
       "      <td>0.000022</td>\n",
       "      <td>0.00130</td>\n",
       "      <td>0.179</td>\n",
       "      <td>0.3180</td>\n",
       "      <td>120.857</td>\n",
       "      <td>4</td>\n",
       "      <td>metal</td>\n",
       "    </tr>\n",
       "    <tr>\n",
       "      <th>3</th>\n",
       "      <td>Mohammed Rafi</td>\n",
       "      <td>Meri Dosti Mera Pyar</td>\n",
       "      <td>4.33</td>\n",
       "      <td>11.0</td>\n",
       "      <td>0.491</td>\n",
       "      <td>0.563</td>\n",
       "      <td>7.0</td>\n",
       "      <td>-8.588</td>\n",
       "      <td>0</td>\n",
       "      <td>0.0331</td>\n",
       "      <td>0.957000</td>\n",
       "      <td>0.00230</td>\n",
       "      <td>0.263</td>\n",
       "      <td>0.8430</td>\n",
       "      <td>95.558</td>\n",
       "      <td>4</td>\n",
       "      <td>bollywood</td>\n",
       "    </tr>\n",
       "    <tr>\n",
       "      <th>4</th>\n",
       "      <td>Harald Lassen, Bram de Looze</td>\n",
       "      <td>How it feels pt. 2</td>\n",
       "      <td>4.44</td>\n",
       "      <td>34.0</td>\n",
       "      <td>0.462</td>\n",
       "      <td>0.374</td>\n",
       "      <td>11.0</td>\n",
       "      <td>-12.069</td>\n",
       "      <td>0</td>\n",
       "      <td>0.0331</td>\n",
       "      <td>0.949000</td>\n",
       "      <td>0.92900</td>\n",
       "      <td>0.131</td>\n",
       "      <td>0.1740</td>\n",
       "      <td>122.939</td>\n",
       "      <td>3</td>\n",
       "      <td>instrumental</td>\n",
       "    </tr>\n",
       "  </tbody>\n",
       "</table>\n",
       "</div>"
      ],
      "text/plain": [
       "                         artist                              track  duration  \\\n",
       "0                        Boston                       Hitch a Ride      4.20   \n",
       "1         Red Hot Chili Peppers  Nobody Weird Like Me - Remastered      3.83   \n",
       "2     Professional Murder Music                               Slow      3.96   \n",
       "3                 Mohammed Rafi               Meri Dosti Mera Pyar      4.33   \n",
       "4  Harald Lassen, Bram de Looze                 How it feels pt. 2      4.44   \n",
       "\n",
       "   popularity  danceability  energy   key  loudness  mode  speechiness  \\\n",
       "0        54.0         0.382   0.814   3.0    -7.230     1       0.0406   \n",
       "1        53.0         0.167   0.975   2.0    -4.279     1       0.2160   \n",
       "2        29.0         0.431   0.776  10.0    -5.403     1       0.0527   \n",
       "3        11.0         0.491   0.563   7.0    -8.588     0       0.0331   \n",
       "4        34.0         0.462   0.374  11.0   -12.069     0       0.0331   \n",
       "\n",
       "   acousticness  instrumentalness  liveness  valence    tempo  time_signature  \\\n",
       "0      0.001100           0.00401     0.101   0.5690  116.454               4   \n",
       "1      0.000169           0.01610     0.172   0.0918  199.060               4   \n",
       "2      0.000022           0.00130     0.179   0.3180  120.857               4   \n",
       "3      0.957000           0.00230     0.263   0.8430   95.558               4   \n",
       "4      0.949000           0.92900     0.131   0.1740  122.939               3   \n",
       "\n",
       "          genre  \n",
       "0          rock  \n",
       "1          rock  \n",
       "2         metal  \n",
       "3     bollywood  \n",
       "4  instrumental  "
      ]
     },
     "execution_count": 7,
     "metadata": {},
     "output_type": "execute_result"
    }
   ],
   "source": [
    "import numpy as np\n",
    "import pandas as pd\n",
    "from sklearn.model_selection import train_test_split\n",
    "from sklearn.preprocessing import Normalizer\n",
    "from sklearn.svm import SVC\n",
    "from sklearn.metrics import accuracy_score\n",
    "from sklearn.metrics import average_precision_score\n",
    "from sklearn.preprocessing import OneHotEncoder\n",
    "from sklearn.model_selection import RandomizedSearchCV\n",
    "from sklearn.tree import DecisionTreeClassifier\n",
    "from sklearn.ensemble import RandomForestClassifier\n",
    "from sklearn.ensemble import GradientBoostingClassifier\n",
    "from sklearn.model_selection import cross_val_score\n",
    "import matplotlib.pyplot as plt\n",
    "\n",
    "songs = pd.read_csv(\"data/songs.csv\")\n",
    "songs.head()"
   ]
  },
  {
   "cell_type": "markdown",
   "id": "4b30a8ca",
   "metadata": {},
   "source": [
    "## Part 1: Preparing the data for analysis"
   ]
  },
  {
   "cell_type": "code",
   "execution_count": 8,
   "id": "c4ec6138",
   "metadata": {},
   "outputs": [
    {
     "name": "stdout",
     "output_type": "stream",
     "text": [
      "The number of artists is 7715\n",
      "The number of songs is 7247\n",
      "\n",
      "['rock' 'metal' 'bollywood' 'instrumental' 'pop' 'hiphop']\n",
      "The number of entries for rock is 3374\n",
      "The number of entries for bollywood is 270\n",
      "The number of entries for instrumental is 464\n",
      "The number of entries for pop is 1099\n",
      "The number of entries for hiphop is 517\n"
     ]
    }
   ],
   "source": [
    "\n",
    "\n",
    "# Convert the artist column to an array (separated by commas for multiple artists in one cell) and get the length of the array (# of artist)\n",
    "\n",
    "artists_per_track = songs[\"artist\"].to_numpy()\n",
    "artists_per_track = artists_per_track.astype(str)\n",
    "artists = np.char.split(artists_per_track, sep=\",\")\n",
    "\n",
    "count = 0\n",
    "for artist in artists:\n",
    "    count += len(artist)\n",
    "\n",
    "print(\"The number of artists is \" + str(count))\n",
    "print(\"The number of songs is \" + str(songs.shape[0]) + \"\\n\")\n",
    "\n",
    "\n",
    "# Get the types of musical genre\n",
    "genre_types = songs[\"genre\"].unique()\n",
    "print(genre_types)\n",
    "\n",
    "# Get num of entries for musical genre\n",
    "genre_types_list = songs[\"genre\"].tolist()\n",
    "\n",
    "num_rock = genre_types_list.count('rock')\n",
    "num_bol = genre_types_list.count('bollywood')\n",
    "num_ins = genre_types_list.count('instrumental')\n",
    "num_pop = genre_types_list.count('pop')\n",
    "num_hip = genre_types_list.count('hiphop')\n",
    "\n",
    "print(\"The number of entries for rock is \" + str(num_rock))\n",
    "print(\"The number of entries for bollywood is \" + str(num_bol))\n",
    "print(\"The number of entries for instrumental is \" + str(num_ins))\n",
    "print(\"The number of entries for pop is \" + str(num_pop))\n",
    "print(\"The number of entries for hiphop is \" + str(num_hip))"
   ]
  },
  {
   "cell_type": "markdown",
   "id": "187108b3-1d82-49ea-92ae-4364326f2e02",
   "metadata": {},
   "source": [
    "> 2. Now let's chose the features we want for our problem.\n",
    "    1. Drop the artist and track name, store the target (musical genre) in a new variable `y` and the remaining features in the variable `X`. "
   ]
  },
  {
   "cell_type": "code",
   "execution_count": 9,
   "id": "4c71af20",
   "metadata": {},
   "outputs": [],
   "source": [
    "# Your code (2.B)\n",
    "X = songs.drop(columns=[\"genre\",\"artist\",\"track\"])\n",
    "y = songs[\"genre\"]\n"
   ]
  },
  {
   "cell_type": "markdown",
   "id": "afefb930",
   "metadata": {},
   "source": [
    "> 3. Split the data in training and testing. Using the scikit-learn library, split the data into 80% training and 20% testing. In order to make the results consistent for everyone, use a random state of 13."
   ]
  },
  {
   "cell_type": "code",
   "execution_count": 10,
   "id": "00191405",
   "metadata": {},
   "outputs": [],
   "source": [
    "\n",
    "\n",
    "X_train, X_test, y_train, y_test = train_test_split(X, y, test_size = 0.2, random_state = 13)\n"
   ]
  },
  {
   "cell_type": "markdown",
   "id": "7b759e97",
   "metadata": {},
   "source": [
    ">4. Normalize the features between 0 and 1."
   ]
  },
  {
   "cell_type": "code",
   "execution_count": 11,
   "id": "0babc0ec",
   "metadata": {},
   "outputs": [],
   "source": [
    "\n",
    "\n",
    "scaler = Normalizer(norm=\"l1\")\n",
    "scaler.fit(X_train)\n",
    "X_train_scaled = scaler.transform(X_train)\n",
    "X_test_scaled = scaler.transform(X_test)\n"
   ]
  },
  {
   "cell_type": "markdown",
   "id": "b95a91b0",
   "metadata": {},
   "source": [
    "## Part 2: Prediction with an SVM classifier "
   ]
  },
  {
   "cell_type": "markdown",
   "id": "508f80f0",
   "metadata": {},
   "source": [
    "> 1. Fit a linear SVM classifier predicting the genre. Compute the accuracy and the average precision score weighted by the class support for both the training and test set. "
   ]
  },
  {
   "cell_type": "code",
   "execution_count": 12,
   "id": "e111b2ca",
   "metadata": {},
   "outputs": [
    {
     "name": "stdout",
     "output_type": "stream",
     "text": [
      "['x0_bollywood' 'x0_hiphop' 'x0_instrumental' 'x0_metal' 'x0_pop'\n",
      " 'x0_rock']\n",
      "Train accuracy: 0.480\n",
      "Test accuracy: 0.484\n",
      "Test average precision score : 0.049\n"
     ]
    }
   ],
   "source": [
    "\n",
    "\n",
    "#encode catagorical y-val to num for computing score \n",
    "\n",
    "\n",
    "linear_SVM = SVC(kernel='linear')\n",
    "linear_SVM.fit(X_train_scaled, y_train)\n",
    "\n",
    "y_pred = linear_SVM.predict(X_test_scaled)\n",
    "y_test_numpy = y_test.to_numpy()\n",
    "\n",
    "#tranform for encoding\n",
    "y_pred = y_pred.reshape(-1, 1)\n",
    "y_test_numpy = y_test_numpy.reshape(-1, 1)\n",
    "\n",
    "enc = OneHotEncoder(handle_unknown='ignore')\n",
    "\n",
    "y_pred = enc.fit_transform(y_pred).toarray()\n",
    "y_test_numpy =  enc.fit_transform(y_test_numpy).toarray()\n",
    "\n",
    "print(enc.get_feature_names())\n",
    "print(f\"Train accuracy: {linear_SVM.score(X_train_scaled, y_train):.3f}\")\n",
    "print(f\"Test accuracy: {linear_SVM.score(X_test_scaled, y_test):.3f}\")\n",
    "print(f\"Test average precision score : {average_precision_score(y_test_numpy, y_pred):.3f}\")\n"
   ]
  },
  {
   "cell_type": "markdown",
   "id": "ebb134af",
   "metadata": {},
   "source": [
    "> 2. 1. We are now looking for the optimal parameters. Optimize the hyperparameters `C`, `gamma` and the `kernel` using a randomized search approach with 3-fold cross-validation. Use the following ranges for the search:\n",
    "    - `C: [1, 50] with a step of 5`\n",
    "    - `gamma: [0.01, 0.5] with a step of 0.1`\n",
    "    - `kernel: \"linear\", \"poly\" or \"rbf\"` <br/>\n",
    "Run the optimization for 40 iteration and use a random state of 13. \n",
    "   "
   ]
  },
  {
   "cell_type": "code",
   "execution_count": 13,
   "id": "49e7af14",
   "metadata": {},
   "outputs": [
    {
     "name": "stdout",
     "output_type": "stream",
     "text": [
      "['x0_bollywood' 'x0_instrumental' 'x0_rock']\n",
      "Best train accuracy:0.505\n",
      "Best parameters:  {'kernel': 'linear', 'gamma': 0.01, 'C': 46}\n",
      "Best test accuracy:0.505\n",
      "Test average precision score : 0.092\n"
     ]
    }
   ],
   "source": [
    "\n",
    "\n",
    "distributions = dict(C = np.arange(1, 50, 5),\n",
    "                     gamma = np.arange(0.01, 0.5, 0.1),\n",
    "                     kernel = [\"linear\", \"poly\", \"rbf\"])\n",
    "\n",
    "SVM = SVC()\n",
    "random_search = RandomizedSearchCV(SVM, distributions, n_iter=40, scoring='accuracy', n_jobs=-1, cv=3, random_state=13, return_train_score=True)\n",
    "random_search.fit(X_train_scaled, y_train)\n",
    "\n",
    "y_pred = random_search.predict(X_test_scaled)\n",
    "y_pred = y_pred.reshape(-1, 1)\n",
    "y_pred = enc.fit_transform(y_pred).toarray()\n",
    "\n",
    "print(enc.get_feature_names())\n",
    "print(\"Best train accuracy:{:.3f}\".format(random_search.best_score_))\n",
    "print(\"Best parameters: \", random_search.best_params_)\n",
    "print(\"Best test accuracy:{:.3f}\".format(random_search.score(X_test_scaled, y_test)))\n",
    "print(f\"Test average precision score : {average_precision_score(y_test_numpy, y_pred):.3f}\")"
   ]
  },
  {
   "cell_type": "markdown",
   "id": "e508dae4",
   "metadata": {},
   "source": [
    "> 3. 1. Compute the confusion matrix for the best model. Normalize the rows to make it sum to 1. \n",
    "  2. Display the normalized confusion matrix as a heatmap. \n",
    "  3. Annotate the rows and columns with pandas. Plot the heatmap with the `seaborn.heatmap()` function from the seaborn library to display the label names. "
   ]
  },
  {
   "cell_type": "code",
   "execution_count": 14,
   "id": "924c3d39",
   "metadata": {},
   "outputs": [
    {
     "name": "stderr",
     "output_type": "stream",
     "text": [
      "<ipython-input-14-6bccd3004bec>:7: MatplotlibDeprecationWarning: Adding an axes using the same arguments as a previous axes currently reuses the earlier instance.  In a future version, a new instance will always be created and returned.  Meanwhile, this warning can be suppressed, and the future behavior ensured, by passing a unique label to each axes instance.\n",
      "  ax= plt.subplot()\n"
     ]
    },
    {
     "data": {
      "image/png": "[encoded data removed]",
      "text/plain": [
       "<Figure size 432x288 with 2 Axes>"
      ]
     },
     "metadata": {
      "needs_background": "light"
     },
     "output_type": "display_data"
    }
   ],
   "source": [
    "# Your code\n",
    "import seaborn as sns\n",
    "from sklearn.metrics import confusion_matrix\n",
    "\n",
    "conf_m = confusion_matrix(y_test_numpy.argmax(axis=1), y_pred.argmax(axis=1), normalize='true')\n",
    "sns.heatmap(conf_m, annot=True)\n",
    "ax= plt.subplot()\n",
    "\n",
    "# labels, title and ticks\n",
    "\n",
    "ax.set_xlabel('Predicted labels');ax.set_ylabel('True labels'); \n",
    "ax.set_title('Confusion Matrix'); \n",
    "ax.xaxis.set_ticklabels(['bollywood', 'instrumental', 'rock','hiphop', 'metal', 'pop']); ax.yaxis.set_ticklabels([ 'pop', 'metal','hiphop', 'rock', 'instrumental', 'bollywood']);"
   ]
  },
  {
   "cell_type": "code",
   "execution_count": null,
   "id": "26c61a93-f204-4e64-ba4e-abb86b79f643",
   "metadata": {},
   "outputs": [],
   "source": []
  },
  {
   "cell_type": "code",
   "execution_count": null,
   "id": "4a8641aa-3b11-429c-914f-0899f6af6bda",
   "metadata": {},
   "outputs": [],
   "source": []
  }
 ],
 "metadata": {
  "kernelspec": {
   "display_name": "Python 3",
   "language": "python",
   "name": "python3"
  },
  "language_info": {
   "codemirror_mode": {
    "name": "ipython",
    "version": 3
   },
   "file_extension": ".py",
   "mimetype": "text/x-python",
   "name": "python",
   "nbconvert_exporter": "python",
   "pygments_lexer": "ipython3",
   "version": "3.8.8"
  }
 },
 "nbformat": 4,
 "nbformat_minor": 5
}
